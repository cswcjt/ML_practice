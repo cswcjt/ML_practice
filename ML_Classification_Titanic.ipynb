{
  "cells": [
    {
      "cell_type": "markdown",
      "metadata": {
        "id": "AzP8dLvZTiS3"
      },
      "source": [
        "\n",
        "## Mini PJT.\n",
        "\n",
        "- `titanic` competition을 도전해봅시다!\n",
        "\n",
        "- 이번 프로젝트에서는 간단한 분류 문제를 풀어봅니다.\n",
        "\n",
        "- sklearn으로 머신러닝 모델을 구현해봅니다.\n",
        "\n",
        "- Machine Learning Workflow를 따라가봅니다.\n",
        "\n",
        "\n",
        "Source : https://www.kaggle.com/c/titanic"
      ]
    },
    {
      "cell_type": "code",
      "execution_count": null,
      "metadata": {
        "id": "udOphxM-hVs_"
      },
      "outputs": [],
      "source": [
        "from google.colab import drive\n",
        "drive.mount('/content/drive')"
      ]
    },
    {
      "cell_type": "code",
      "execution_count": null,
      "metadata": {
        "id": "fcArzH_CTiS5"
      },
      "outputs": [],
      "source": [
        "# titanic data 불러오기\n"
      ]
    },
    {
      "cell_type": "markdown",
      "metadata": {
        "id": "AO0TZq8bTiS6"
      },
      "source": [
        "### Data Preprocessing\n",
        "\n",
        "1. 결측치 처리\n",
        "\n",
        "\n",
        "2. feature selection (분석에 사용하지 않을 column 제거)"
      ]
    },
    {
      "cell_type": "code",
      "execution_count": null,
      "metadata": {
        "id": "US0iRh5QTiS7"
      },
      "outputs": [],
      "source": [
        "# titanic data에서 missing value를 찾아봅니다.\n"
      ]
    },
    {
      "cell_type": "code",
      "execution_count": null,
      "metadata": {
        "id": "9r4mwYRDTiS8"
      },
      "outputs": [],
      "source": [
        "# Embarked column이 NaN인 row를 찾습니다.\n"
      ]
    },
    {
      "cell_type": "code",
      "execution_count": null,
      "metadata": {
        "id": "pYR_Nd0YTiS8"
      },
      "outputs": [],
      "source": [
        "# missing value를 handling 합니다.\n",
        "# column을 지울까요 / 채울까요?\n"
      ]
    },
    {
      "cell_type": "markdown",
      "metadata": {
        "id": "iSBBw95_ckeu"
      },
      "source": [
        "### Feature Engineering\n",
        "\n",
        "1. Categorical feature encoding\n",
        "\n",
        "2. Normalization"
      ]
    },
    {
      "cell_type": "code",
      "execution_count": null,
      "metadata": {
        "id": "vQMgv75TTiS8"
      },
      "outputs": [],
      "source": [
        "# categorical feature --> One-hot Encoding\n"
      ]
    },
    {
      "cell_type": "code",
      "execution_count": null,
      "metadata": {
        "id": "hAWebHXjfaaZ"
      },
      "outputs": [],
      "source": [
        "# Normalization --> Min-Max scaling\n"
      ]
    },
    {
      "cell_type": "markdown",
      "metadata": {
        "id": "yPj0i4yrTiS9"
      },
      "source": [
        "### Training "
      ]
    },
    {
      "cell_type": "code",
      "execution_count": null,
      "metadata": {
        "id": "aLQ5USRSTiS9"
      },
      "outputs": [],
      "source": [
        "# sklearn에서 배웠던 분류 모델들을 불러와봅니다.\n"
      ]
    },
    {
      "cell_type": "markdown",
      "metadata": {
        "id": "6x9UY4eVTiTA"
      },
      "source": [
        "### Test (Predict)"
      ]
    },
    {
      "cell_type": "code",
      "execution_count": null,
      "metadata": {
        "id": "d0TQ4C-GTiTA"
      },
      "outputs": [],
      "source": [
        "test"
      ]
    },
    {
      "cell_type": "code",
      "execution_count": null,
      "metadata": {
        "id": "GVDdzeLdTiTA"
      },
      "outputs": [],
      "source": [
        "# test data에 같은 feature engineering을 적용해줍니다.\n"
      ]
    },
    {
      "cell_type": "code",
      "execution_count": null,
      "metadata": {
        "id": "hSu-Tgx2TiTA"
      },
      "outputs": [],
      "source": [
        "# 결과 파일인 submission.csv를 생성합니다.\n",
        "submission = "
      ]
    },
    {
      "cell_type": "markdown",
      "metadata": {
        "id": "ybWxd9xLf_0W"
      },
      "source": [
        "- 모든 학습이 끝나면 결과를 가지고 제출해볼 수 있습니다.\n",
        "\n",
        "- 만든 모델 중에 가장 test 성능이 좋은 하나를 제출해볼까요?\n",
        "\n",
        "[제출하러가기] https://www.kaggle.com/c/titanic"
      ]
    },
    {
      "cell_type": "code",
      "execution_count": null,
      "metadata": {
        "id": "1Nwv-6IqgFQs"
      },
      "outputs": [],
      "source": []
    }
  ],
  "metadata": {
    "colab": {
      "collapsed_sections": [],
      "provenance": []
    },
    "kernelspec": {
      "display_name": "Python 3",
      "language": "python",
      "name": "python3"
    },
    "language_info": {
      "codemirror_mode": {
        "name": "ipython",
        "version": 3
      },
      "file_extension": ".py",
      "mimetype": "text/x-python",
      "name": "python",
      "nbconvert_exporter": "python",
      "pygments_lexer": "ipython3",
      "version": "3.8.2"
    }
  },
  "nbformat": 4,
  "nbformat_minor": 0
}