{
  "nbformat": 4,
  "nbformat_minor": 0,
  "metadata": {
    "colab": {
      "provenance": [],
      "collapsed_sections": []
    },
    "kernelspec": {
      "name": "python3",
      "display_name": "Python 3"
    },
    "language_info": {
      "name": "python"
    }
  },
  "cells": [
    {
      "cell_type": "markdown",
      "source": [
        "### 1. Data and Library load"
      ],
      "metadata": {
        "id": "o7EpvHwuCqKN"
      }
    },
    {
      "cell_type": "code",
      "source": [
        "from google.colab import drive\n",
        "drive.mount('/content/drive')"
      ],
      "metadata": {
        "colab": {
          "base_uri": "https://localhost:8080/"
        },
        "id": "fRFkhxge8XSE",
        "outputId": "991d67cd-2b44-489d-9bd5-31fad6907e93"
      },
      "execution_count": 1,
      "outputs": [
        {
          "output_type": "stream",
          "name": "stdout",
          "text": [
            "Mounted at /content/drive\n"
          ]
        }
      ]
    },
    {
      "cell_type": "code",
      "source": [
        "import pandas as pd\n",
        "import numpy as np\n",
        "import matplotlib.pyplot as plt\n",
        "import seaborn as sns"
      ],
      "metadata": {
        "id": "ZbhKoKJx8n5F"
      },
      "execution_count": 2,
      "outputs": []
    },
    {
      "cell_type": "code",
      "source": [
        "base_path = \"/content/drive/MyDrive/fastcamp/datas/energy/\"\n",
        "train = pd.read_csv(base_path + \"train.csv\", encoding='cp949')\n",
        "test = pd.read_csv(base_path + \"test.csv\", encoding='cp949')\n",
        "submission = pd.read_csv(base_path + \"sample_submission.csv\", encoding='cp949')"
      ],
      "metadata": {
        "id": "vzQZVmNS8vwZ"
      },
      "execution_count": 3,
      "outputs": []
    },
    {
      "cell_type": "markdown",
      "source": [
        "### 2. Data Preprocessing with EDA\n",
        "\n",
        "- 학습 기간 : 2020-06-01 00 ~ 2020-08-24 23\n",
        "\n",
        "- 예측 기간 : 2020-08-25 00 ~ 2020-08-31 23\n",
        "\n",
        "- 예측 기간 데이터는 기상청 예보 데이터를 활용 데이터를 사용하기 때문에 기록 시간 단위가 3시간 6시간이다."
      ],
      "metadata": {
        "id": "2uf9Zf5vCyp2"
      }
    },
    {
      "cell_type": "markdown",
      "source": [
        "### Data Preprocessing\n",
        "\n",
        "1. 결측치 처리\n",
        "\n",
        "2. feature selection (분석에 사용하지 않을 column 제거)\n",
        "\n",
        "3. target distribution\n",
        "\n",
        "4. time series to find out implied pattern\n",
        "\n",
        "5. test data 결측치 처리"
      ],
      "metadata": {
        "id": "kVIXOqxACcvK"
      }
    },
    {
      "cell_type": "code",
      "source": [
        "train.info() # 완벽\n",
        "test.info() # null 많다.\n",
        "\n",
        "# null의 이유 : 기록 시간의 단위 \n",
        "# 기온(°C)        3360 non-null   \n",
        "# 풍속(m/s)       3360 non-null\n",
        "# 일조(hr, 3시간)   3360 non-null \n",
        "# 강수량(mm, 6시간)  1680 non-nul"
      ],
      "metadata": {
        "colab": {
          "base_uri": "https://localhost:8080/"
        },
        "id": "RHSQXuoc80EG",
        "outputId": "c096c803-d60a-47df-ace6-034ac39db543"
      },
      "execution_count": 4,
      "outputs": [
        {
          "output_type": "stream",
          "name": "stdout",
          "text": [
            "<class 'pandas.core.frame.DataFrame'>\n",
            "RangeIndex: 122400 entries, 0 to 122399\n",
            "Data columns (total 10 columns):\n",
            " #   Column      Non-Null Count   Dtype  \n",
            "---  ------      --------------   -----  \n",
            " 0   num         122400 non-null  int64  \n",
            " 1   date_time   122400 non-null  object \n",
            " 2   전력사용량(kWh)  122400 non-null  float64\n",
            " 3   기온(°C)      122400 non-null  float64\n",
            " 4   풍속(m/s)     122400 non-null  float64\n",
            " 5   습도(%)       122400 non-null  float64\n",
            " 6   강수량(mm)     122400 non-null  float64\n",
            " 7   일조(hr)      122400 non-null  float64\n",
            " 8   비전기냉방설비운영   122400 non-null  float64\n",
            " 9   태양광보유       122400 non-null  float64\n",
            "dtypes: float64(8), int64(1), object(1)\n",
            "memory usage: 9.3+ MB\n",
            "<class 'pandas.core.frame.DataFrame'>\n",
            "RangeIndex: 10080 entries, 0 to 10079\n",
            "Data columns (total 9 columns):\n",
            " #   Column        Non-Null Count  Dtype  \n",
            "---  ------        --------------  -----  \n",
            " 0   num           10080 non-null  int64  \n",
            " 1   date_time     10080 non-null  object \n",
            " 2   기온(°C)        3360 non-null   float64\n",
            " 3   풍속(m/s)       3360 non-null   float64\n",
            " 4   습도(%)         3360 non-null   float64\n",
            " 5   강수량(mm, 6시간)  1680 non-null   float64\n",
            " 6   일조(hr, 3시간)   3360 non-null   float64\n",
            " 7   비전기냉방설비운영     2296 non-null   float64\n",
            " 8   태양광보유         1624 non-null   float64\n",
            "dtypes: float64(7), int64(1), object(1)\n",
            "memory usage: 708.9+ KB\n"
          ]
        }
      ]
    },
    {
      "cell_type": "code",
      "source": [
        "plt.figure(figsize = (14, 7))\n",
        "sns.histplot(data = train, x = \"전력사용량(kWh)\")\n",
        "plt.show()"
      ],
      "metadata": {
        "colab": {
          "base_uri": "https://localhost:8080/",
          "height": 799
        },
        "id": "Ah2v2SIWCRxR",
        "outputId": "eefb7cad-253e-443e-97b8-3d0555b2a82d"
      },
      "execution_count": 5,
      "outputs": [
        {
          "output_type": "stream",
          "name": "stderr",
          "text": [
            "/usr/local/lib/python3.7/dist-packages/matplotlib/backends/backend_agg.py:214: RuntimeWarning: Glyph 51204 missing from current font.\n",
            "  font.set_text(s, 0.0, flags=flags)\n",
            "/usr/local/lib/python3.7/dist-packages/matplotlib/backends/backend_agg.py:214: RuntimeWarning: Glyph 47141 missing from current font.\n",
            "  font.set_text(s, 0.0, flags=flags)\n",
            "/usr/local/lib/python3.7/dist-packages/matplotlib/backends/backend_agg.py:214: RuntimeWarning: Glyph 49324 missing from current font.\n",
            "  font.set_text(s, 0.0, flags=flags)\n",
            "/usr/local/lib/python3.7/dist-packages/matplotlib/backends/backend_agg.py:214: RuntimeWarning: Glyph 50857 missing from current font.\n",
            "  font.set_text(s, 0.0, flags=flags)\n",
            "/usr/local/lib/python3.7/dist-packages/matplotlib/backends/backend_agg.py:214: RuntimeWarning: Glyph 47049 missing from current font.\n",
            "  font.set_text(s, 0.0, flags=flags)\n",
            "/usr/local/lib/python3.7/dist-packages/matplotlib/backends/backend_agg.py:183: RuntimeWarning: Glyph 51204 missing from current font.\n",
            "  font.set_text(s, 0, flags=flags)\n",
            "/usr/local/lib/python3.7/dist-packages/matplotlib/backends/backend_agg.py:183: RuntimeWarning: Glyph 47141 missing from current font.\n",
            "  font.set_text(s, 0, flags=flags)\n",
            "/usr/local/lib/python3.7/dist-packages/matplotlib/backends/backend_agg.py:183: RuntimeWarning: Glyph 49324 missing from current font.\n",
            "  font.set_text(s, 0, flags=flags)\n",
            "/usr/local/lib/python3.7/dist-packages/matplotlib/backends/backend_agg.py:183: RuntimeWarning: Glyph 50857 missing from current font.\n",
            "  font.set_text(s, 0, flags=flags)\n",
            "/usr/local/lib/python3.7/dist-packages/matplotlib/backends/backend_agg.py:183: RuntimeWarning: Glyph 47049 missing from current font.\n",
            "  font.set_text(s, 0, flags=flags)\n"
          ]
        },
        {
          "output_type": "display_data",
          "data": {
            "text/plain": [
              "<Figure size 1008x504 with 1 Axes>"
            ],
            "image/png": "[encoded data removed]"
          },
          "metadata": {
            "needs_background": "light"
          }
        }
      ]
    },
    {
      "cell_type": "code",
      "source": [
        "# boxplot : 정규분포가 아닌 경우 -> 데이터가 치우쳐 있다. 따라서 박스플롯 쓰면 이상치가 많이 나올 수 밖에 없어서 생각을 해봐야한다. \n",
        "plt.figure(figsize = (14, 7))\n",
        "sns.boxplot(data = train, y = \"전력사용량(kWh)\")"
      ],
      "metadata": {
        "colab": {
          "base_uri": "https://localhost:8080/",
          "height": 790
        },
        "id": "Z1kswljmDZl9",
        "outputId": "2b73558f-92df-4e76-c962-2433eaf92fdd"
      },
      "execution_count": 6,
      "outputs": [
        {
          "output_type": "execute_result",
          "data": {
            "text/plain": [
              "<matplotlib.axes._subplots.AxesSubplot at 0x7f2e5c7ca1d0>"
            ]
          },
          "metadata": {},
          "execution_count": 6
        },
        {
          "output_type": "stream",
          "name": "stderr",
          "text": [
            "/usr/local/lib/python3.7/dist-packages/matplotlib/backends/backend_agg.py:214: RuntimeWarning: Glyph 51204 missing from current font.\n",
            "  font.set_text(s, 0.0, flags=flags)\n",
            "/usr/local/lib/python3.7/dist-packages/matplotlib/backends/backend_agg.py:214: RuntimeWarning: Glyph 47141 missing from current font.\n",
            "  font.set_text(s, 0.0, flags=flags)\n",
            "/usr/local/lib/python3.7/dist-packages/matplotlib/backends/backend_agg.py:214: RuntimeWarning: Glyph 49324 missing from current font.\n",
            "  font.set_text(s, 0.0, flags=flags)\n",
            "/usr/local/lib/python3.7/dist-packages/matplotlib/backends/backend_agg.py:214: RuntimeWarning: Glyph 50857 missing from current font.\n",
            "  font.set_text(s, 0.0, flags=flags)\n",
            "/usr/local/lib/python3.7/dist-packages/matplotlib/backends/backend_agg.py:214: RuntimeWarning: Glyph 47049 missing from current font.\n",
            "  font.set_text(s, 0.0, flags=flags)\n",
            "/usr/local/lib/python3.7/dist-packages/matplotlib/backends/backend_agg.py:183: RuntimeWarning: Glyph 51204 missing from current font.\n",
            "  font.set_text(s, 0, flags=flags)\n",
            "/usr/local/lib/python3.7/dist-packages/matplotlib/backends/backend_agg.py:183: RuntimeWarning: Glyph 47141 missing from current font.\n",
            "  font.set_text(s, 0, flags=flags)\n",
            "/usr/local/lib/python3.7/dist-packages/matplotlib/backends/backend_agg.py:183: RuntimeWarning: Glyph 49324 missing from current font.\n",
            "  font.set_text(s, 0, flags=flags)\n",
            "/usr/local/lib/python3.7/dist-packages/matplotlib/backends/backend_agg.py:183: RuntimeWarning: Glyph 50857 missing from current font.\n",
            "  font.set_text(s, 0, flags=flags)\n",
            "/usr/local/lib/python3.7/dist-packages/matplotlib/backends/backend_agg.py:183: RuntimeWarning: Glyph 47049 missing from current font.\n",
            "  font.set_text(s, 0, flags=flags)\n"
          ]
        },
        {
          "output_type": "display_data",
          "data": {
            "text/plain": [
              "<Figure size 1008x504 with 1 Axes>"
            ],
            "image/png": "[encoded data removed]"
          },
          "metadata": {
            "needs_background": "light"
          }
        }
      ]
    },
    {
      "cell_type": "code",
      "source": [
        "train[train[\"전력사용량(kWh)\"] > 17000].shape"
      ],
      "metadata": {
        "colab": {
          "base_uri": "https://localhost:8080/"
        },
        "id": "9oM1vgB1Gbop",
        "outputId": "13b82b1c-54b3-480e-9229-c947f4560924"
      },
      "execution_count": 7,
      "outputs": [
        {
          "output_type": "execute_result",
          "data": {
            "text/plain": [
              "(40, 10)"
            ]
          },
          "metadata": {},
          "execution_count": 7
        }
      ]
    },
    {
      "cell_type": "code",
      "source": [
        "# 건물별 전력사용량을 확인해보자\n",
        "# 찍어보면 알 수 있는 점 : 건물별 전력 사용량 패턴이 다르다. \n",
        "# 이전에 이상치들이 결국 8번 건물이였다는 것을 알 수 있다. \n",
        "# 또한 8번 건물의 박스폴롯에는 이상치가 없음을 알 수 있다.\n",
        "plt.figure(figsize = (20, 10))\n",
        "sns.boxplot(data = train, x = \"num\", y = \"전력사용량(kWh)\")"
      ],
      "metadata": {
        "colab": {
          "base_uri": "https://localhost:8080/",
          "height": 981
        },
        "id": "RR7Az3auHtDi",
        "outputId": "16e0cc7f-774e-4f0a-9011-ee9fe4f18a4d"
      },
      "execution_count": 8,
      "outputs": [
        {
          "output_type": "execute_result",
          "data": {
            "text/plain": [
              "<matplotlib.axes._subplots.AxesSubplot at 0x7f2e5bfd3e50>"
            ]
          },
          "metadata": {},
          "execution_count": 8
        },
        {
          "output_type": "stream",
          "name": "stderr",
          "text": [
            "/usr/local/lib/python3.7/dist-packages/matplotlib/backends/backend_agg.py:214: RuntimeWarning: Glyph 51204 missing from current font.\n",
            "  font.set_text(s, 0.0, flags=flags)\n",
            "/usr/local/lib/python3.7/dist-packages/matplotlib/backends/backend_agg.py:214: RuntimeWarning: Glyph 47141 missing from current font.\n",
            "  font.set_text(s, 0.0, flags=flags)\n",
            "/usr/local/lib/python3.7/dist-packages/matplotlib/backends/backend_agg.py:214: RuntimeWarning: Glyph 49324 missing from current font.\n",
            "  font.set_text(s, 0.0, flags=flags)\n",
            "/usr/local/lib/python3.7/dist-packages/matplotlib/backends/backend_agg.py:214: RuntimeWarning: Glyph 50857 missing from current font.\n",
            "  font.set_text(s, 0.0, flags=flags)\n",
            "/usr/local/lib/python3.7/dist-packages/matplotlib/backends/backend_agg.py:214: RuntimeWarning: Glyph 47049 missing from current font.\n",
            "  font.set_text(s, 0.0, flags=flags)\n",
            "/usr/local/lib/python3.7/dist-packages/matplotlib/backends/backend_agg.py:183: RuntimeWarning: Glyph 51204 missing from current font.\n",
            "  font.set_text(s, 0, flags=flags)\n",
            "/usr/local/lib/python3.7/dist-packages/matplotlib/backends/backend_agg.py:183: RuntimeWarning: Glyph 47141 missing from current font.\n",
            "  font.set_text(s, 0, flags=flags)\n",
            "/usr/local/lib/python3.7/dist-packages/matplotlib/backends/backend_agg.py:183: RuntimeWarning: Glyph 49324 missing from current font.\n",
            "  font.set_text(s, 0, flags=flags)\n",
            "/usr/local/lib/python3.7/dist-packages/matplotlib/backends/backend_agg.py:183: RuntimeWarning: Glyph 50857 missing from current font.\n",
            "  font.set_text(s, 0, flags=flags)\n",
            "/usr/local/lib/python3.7/dist-packages/matplotlib/backends/backend_agg.py:183: RuntimeWarning: Glyph 47049 missing from current font.\n",
            "  font.set_text(s, 0, flags=flags)\n"
          ]
        },
        {
          "output_type": "display_data",
          "data": {
            "text/plain": [
              "<Figure size 1440x720 with 1 Axes>"
            ],
            "image/png": "[encoded data removed]"
          },
          "metadata": {
            "needs_background": "light"
          }
        }
      ]
    },
    {
      "cell_type": "code",
      "source": [
        "# date_time 타입 datetime으로 변경하자\n",
        "train.date_time = pd.to_datetime(train.date_time)\n",
        "test.date_time = pd.to_datetime(test.date_time)"
      ],
      "metadata": {
        "id": "2Leqn0fEJulz"
      },
      "execution_count": 9,
      "outputs": []
    },
    {
      "cell_type": "code",
      "source": [
        "# column 이름 영어로 바꾸자\n",
        "train.columns\n",
        "\n",
        "train.columns = [\"num\", \"date_time\", \"target\", \"temperature\", \"windspeed\", \"humidity\", \n",
        "                 \"precipitation\", \"insolation\", \"elec_cool\", \"solar\"]\n",
        "\n",
        "test.columns = [\"num\", \"date_time\", \"temperature\", \"windspeed\", \"humidity\", \n",
        "                 \"precipitation\", \"insolation\", \"elec_cool\", \"solar\"]"
      ],
      "metadata": {
        "id": "z50oL9-zKLgJ"
      },
      "execution_count": 10,
      "outputs": []
    },
    {
      "cell_type": "code",
      "source": [
        "train"
      ],
      "metadata": {
        "colab": {
          "base_uri": "https://localhost:8080/",
          "height": 424
        },
        "id": "6jIRM9c8KlRC",
        "outputId": "5963154a-e0bc-4d83-f8ea-07904e4e941d"
      },
      "execution_count": 11,
      "outputs": [
        {
          "output_type": "execute_result",
          "data": {
            "text/plain": [
              "        num           date_time    target  temperature  windspeed  humidity  \\\n",
              "0         1 2020-06-01 00:00:00  8179.056         17.6        2.5      92.0   \n",
              "1         1 2020-06-01 01:00:00  8135.640         17.7        2.9      91.0   \n",
              "2         1 2020-06-01 02:00:00  8107.128         17.5        3.2      91.0   \n",
              "3         1 2020-06-01 03:00:00  8048.808         17.1        3.2      91.0   \n",
              "4         1 2020-06-01 04:00:00  8043.624         17.0        3.3      92.0   \n",
              "...     ...                 ...       ...          ...        ...       ...   \n",
              "122395   60 2020-08-24 19:00:00  4114.368         27.8        2.3      68.0   \n",
              "122396   60 2020-08-24 20:00:00  3975.696         27.3        1.2      71.0   \n",
              "122397   60 2020-08-24 21:00:00  3572.208         27.3        1.8      71.0   \n",
              "122398   60 2020-08-24 22:00:00  3299.184         27.1        1.8      74.0   \n",
              "122399   60 2020-08-24 23:00:00  3204.576         27.1        2.6      75.0   \n",
              "\n",
              "        precipitation  insolation  elec_cool  solar  \n",
              "0                 0.8         0.0        0.0    0.0  \n",
              "1                 0.3         0.0        0.0    0.0  \n",
              "2                 0.0         0.0        0.0    0.0  \n",
              "3                 0.0         0.0        0.0    0.0  \n",
              "4                 0.0         0.0        0.0    0.0  \n",
              "...               ...         ...        ...    ...  \n",
              "122395            0.0         0.7        1.0    1.0  \n",
              "122396            0.0         0.0        1.0    1.0  \n",
              "122397            0.0         0.0        1.0    1.0  \n",
              "122398            0.0         0.0        1.0    1.0  \n",
              "122399            0.0         0.0        1.0    1.0  \n",
              "\n",
              "[122400 rows x 10 columns]"
            ],
            "text/html": [
              "\n",
              "  <div id=\"df-2711233d-5cb3-46d7-a977-d2fc634afd62\">\n",
              "    <div class=\"colab-df-container\">\n",
              "      <div>\n",
              "<style scoped>\n",
              "    .dataframe tbody tr th:only-of-type {\n",
              "        vertical-align: middle;\n",
              "    }\n",
              "\n",
              "    .dataframe tbody tr th {\n",
              "        vertical-align: top;\n",
              "    }\n",
              "\n",
              "    .dataframe thead th {\n",
              "        text-align: right;\n",
              "    }\n",
              "</style>\n",
              "<table border=\"1\" class=\"dataframe\">\n",
              "  <thead>\n",
              "    <tr style=\"text-align: right;\">\n",
              "      <th></th>\n",
              "      <th>num</th>\n",
              "      <th>date_time</th>\n",
              "      <th>target</th>\n",
              "      <th>temperature</th>\n",
              "      <th>windspeed</th>\n",
              "      <th>humidity</th>\n",
              "      <th>precipitation</th>\n",
              "      <th>insolation</th>\n",
              "      <th>elec_cool</th>\n",
              "      <th>solar</th>\n",
              "    </tr>\n",
              "  </thead>\n",
              "  <tbody>\n",
              "    <tr>\n",
              "      <th>0</th>\n",
              "      <td>1</td>\n",
              "      <td>2020-06-01 00:00:00</td>\n",
              "      <td>8179.056</td>\n",
              "      <td>17.6</td>\n",
              "      <td>2.5</td>\n",
              "      <td>92.0</td>\n",
              "      <td>0.8</td>\n",
              "      <td>0.0</td>\n",
              "      <td>0.0</td>\n",
              "      <td>0.0</td>\n",
              "    </tr>\n",
              "    <tr>\n",
              "      <th>1</th>\n",
              "      <td>1</td>\n",
              "      <td>2020-06-01 01:00:00</td>\n",
              "      <td>8135.640</td>\n",
              "      <td>17.7</td>\n",
              "      <td>2.9</td>\n",
              "      <td>91.0</td>\n",
              "      <td>0.3</td>\n",
              "      <td>0.0</td>\n",
              "      <td>0.0</td>\n",
              "      <td>0.0</td>\n",
              "    </tr>\n",
              "    <tr>\n",
              "      <th>2</th>\n",
              "      <td>1</td>\n",
              "      <td>2020-06-01 02:00:00</td>\n",
              "      <td>8107.128</td>\n",
              "      <td>17.5</td>\n",
              "      <td>3.2</td>\n",
              "      <td>91.0</td>\n",
              "      <td>0.0</td>\n",
              "      <td>0.0</td>\n",
              "      <td>0.0</td>\n",
              "      <td>0.0</td>\n",
              "    </tr>\n",
              "    <tr>\n",
              "      <th>3</th>\n",
              "      <td>1</td>\n",
              "      <td>2020-06-01 03:00:00</td>\n",
              "      <td>8048.808</td>\n",
              "      <td>17.1</td>\n",
              "      <td>3.2</td>\n",
              "      <td>91.0</td>\n",
              "      <td>0.0</td>\n",
              "      <td>0.0</td>\n",
              "      <td>0.0</td>\n",
              "      <td>0.0</td>\n",
              "    </tr>\n",
              "    <tr>\n",
              "      <th>4</th>\n",
              "      <td>1</td>\n",
              "      <td>2020-06-01 04:00:00</td>\n",
              "      <td>8043.624</td>\n",
              "      <td>17.0</td>\n",
              "      <td>3.3</td>\n",
              "      <td>92.0</td>\n",
              "      <td>0.0</td>\n",
              "      <td>0.0</td>\n",
              "      <td>0.0</td>\n",
              "      <td>0.0</td>\n",
              "    </tr>\n",
              "    <tr>\n",
              "      <th>...</th>\n",
              "      <td>...</td>\n",
              "      <td>...</td>\n",
              "      <td>...</td>\n",
              "      <td>...</td>\n",
              "      <td>...</td>\n",
              "      <td>...</td>\n",
              "      <td>...</td>\n",
              "      <td>...</td>\n",
              "      <td>...</td>\n",
              "      <td>...</td>\n",
              "    </tr>\n",
              "    <tr>\n",
              "      <th>122395</th>\n",
              "      <td>60</td>\n",
              "      <td>2020-08-24 19:00:00</td>\n",
              "      <td>4114.368</td>\n",
              "      <td>27.8</td>\n",
              "      <td>2.3</td>\n",
              "      <td>68.0</td>\n",
              "      <td>0.0</td>\n",
              "      <td>0.7</td>\n",
              "      <td>1.0</td>\n",
              "      <td>1.0</td>\n",
              "    </tr>\n",
              "    <tr>\n",
              "      <th>122396</th>\n",
              "      <td>60</td>\n",
              "      <td>2020-08-24 20:00:00</td>\n",
              "      <td>3975.696</td>\n",
              "      <td>27.3</td>\n",
              "      <td>1.2</td>\n",
              "      <td>71.0</td>\n",
              "      <td>0.0</td>\n",
              "      <td>0.0</td>\n",
              "      <td>1.0</td>\n",
              "      <td>1.0</td>\n",
              "    </tr>\n",
              "    <tr>\n",
              "      <th>122397</th>\n",
              "      <td>60</td>\n",
              "      <td>2020-08-24 21:00:00</td>\n",
              "      <td>3572.208</td>\n",
              "      <td>27.3</td>\n",
              "      <td>1.8</td>\n",
              "      <td>71.0</td>\n",
              "      <td>0.0</td>\n",
              "      <td>0.0</td>\n",
              "      <td>1.0</td>\n",
              "      <td>1.0</td>\n",
              "    </tr>\n",
              "    <tr>\n",
              "      <th>122398</th>\n",
              "      <td>60</td>\n",
              "      <td>2020-08-24 22:00:00</td>\n",
              "      <td>3299.184</td>\n",
              "      <td>27.1</td>\n",
              "      <td>1.8</td>\n",
              "      <td>74.0</td>\n",
              "      <td>0.0</td>\n",
              "      <td>0.0</td>\n",
              "      <td>1.0</td>\n",
              "      <td>1.0</td>\n",
              "    </tr>\n",
              "    <tr>\n",
              "      <th>122399</th>\n",
              "      <td>60</td>\n",
              "      <td>2020-08-24 23:00:00</td>\n",
              "      <td>3204.576</td>\n",
              "      <td>27.1</td>\n",
              "      <td>2.6</td>\n",
              "      <td>75.0</td>\n",
              "      <td>0.0</td>\n",
              "      <td>0.0</td>\n",
              "      <td>1.0</td>\n",
              "      <td>1.0</td>\n",
              "    </tr>\n",
              "  </tbody>\n",
              "</table>\n",
              "<p>122400 rows × 10 columns</p>\n",
              "</div>\n",
              "      <button class=\"colab-df-convert\" onclick=\"convertToInteractive('df-2711233d-5cb3-46d7-a977-d2fc634afd62')\"\n",
              "              title=\"Convert this dataframe to an interactive table.\"\n",
              "              style=\"display:none;\">\n",
              "        \n",
              "  <svg xmlns=\"http://www.w3.org/2000/svg\" height=\"24px\"viewBox=\"0 0 24 24\"\n",
              "       width=\"24px\">\n",
              "    <path d=\"M0 0h24v24H0V0z\" fill=\"none\"/>\n",
              "    <path d=\"M18.56 5.44l.94 2.06.94-2.06 2.06-.94-2.06-.94-.94-2.06-.94 2.06-2.06.94zm-11 1L8.5 8.5l.94-2.06 2.06-.94-2.06-.94L8.5 2.5l-.94 2.06-2.06.94zm10 10l.94 2.06.94-2.06 2.06-.94-2.06-.94-.94-2.06-.94 2.06-2.06.94z\"/><path d=\"M17.41 7.96l-1.37-1.37c-.4-.4-.92-.59-1.43-.59-.52 0-1.04.2-1.43.59L10.3 9.45l-7.72 7.72c-.78.78-.78 2.05 0 2.83L4 21.41c.39.39.9.59 1.41.59.51 0 1.02-.2 1.41-.59l7.78-7.78 2.81-2.81c.8-.78.8-2.07 0-2.86zM5.41 20L4 18.59l7.72-7.72 1.47 1.35L5.41 20z\"/>\n",
              "  </svg>\n",
              "      </button>\n",
              "      \n",
              "  <style>\n",
              "    .colab-df-container {\n",
              "      display:flex;\n",
              "      flex-wrap:wrap;\n",
              "      gap: 12px;\n",
              "    }\n",
              "\n",
              "    .colab-df-convert {\n",
              "      background-color: #E8F0FE;\n",
              "      border: none;\n",
              "      border-radius: 50%;\n",
              "      cursor: pointer;\n",
              "      display: none;\n",
              "      fill: #1967D2;\n",
              "      height: 32px;\n",
              "      padding: 0 0 0 0;\n",
              "      width: 32px;\n",
              "    }\n",
              "\n",
              "    .colab-df-convert:hover {\n",
              "      background-color: #E2EBFA;\n",
              "      box-shadow: 0px 1px 2px rgba(60, 64, 67, 0.3), 0px 1px 3px 1px rgba(60, 64, 67, 0.15);\n",
              "      fill: #174EA6;\n",
              "    }\n",
              "\n",
              "    [theme=dark] .colab-df-convert {\n",
              "      background-color: #3B4455;\n",
              "      fill: #D2E3FC;\n",
              "    }\n",
              "\n",
              "    [theme=dark] .colab-df-convert:hover {\n",
              "      background-color: #434B5C;\n",
              "      box-shadow: 0px 1px 3px 1px rgba(0, 0, 0, 0.15);\n",
              "      filter: drop-shadow(0px 1px 2px rgba(0, 0, 0, 0.3));\n",
              "      fill: #FFFFFF;\n",
              "    }\n",
              "  </style>\n",
              "\n",
              "      <script>\n",
              "        const buttonEl =\n",
              "          document.querySelector('#df-2711233d-5cb3-46d7-a977-d2fc634afd62 button.colab-df-convert');\n",
              "        buttonEl.style.display =\n",
              "          google.colab.kernel.accessAllowed ? 'block' : 'none';\n",
              "\n",
              "        async function convertToInteractive(key) {\n",
              "          const element = document.querySelector('#df-2711233d-5cb3-46d7-a977-d2fc634afd62');\n",
              "          const dataTable =\n",
              "            await google.colab.kernel.invokeFunction('convertToInteractive',\n",
              "                                                     [key], {});\n",
              "          if (!dataTable) return;\n",
              "\n",
              "          const docLinkHtml = 'Like what you see? Visit the ' +\n",
              "            '<a target=\"_blank\" href=https://colab.research.google.com/notebooks/data_table.ipynb>data table notebook</a>'\n",
              "            + ' to learn more about interactive tables.';\n",
              "          element.innerHTML = '';\n",
              "          dataTable['output_type'] = 'display_data';\n",
              "          await google.colab.output.renderOutput(dataTable, element);\n",
              "          const docLink = document.createElement('div');\n",
              "          docLink.innerHTML = docLinkHtml;\n",
              "          element.appendChild(docLink);\n",
              "        }\n",
              "      </script>\n",
              "    </div>\n",
              "  </div>\n",
              "  "
            ]
          },
          "metadata": {},
          "execution_count": 11
        }
      ]
    },
    {
      "cell_type": "code",
      "source": [
        "# test data 결측치 처리\n",
        "\n",
        "# 1. 기상 정보들의 결측치 처리\n",
        "# 특징 : 시간에 따라 계속 변하는 값이기 때문에 연속성이 높다. 따라서 평균 값으로 nan값을 채우면 문제가 생길 것이란 것을 알아채야 한다.\n",
        "# 결론 : 선형보관법(linear interpolation)을 적용한다!!!\n",
        "plt.figure(figsize = (30, 6))\n",
        "sns.lineplot(data = train, x = \"date_time\", y = \"temperature\", ci = None) # ci = confidence interval \n",
        "sns.lineplot(data = train, x = \"date_time\", y = \"humidity\", ci = None)"
      ],
      "metadata": {
        "colab": {
          "base_uri": "https://localhost:8080/",
          "height": 319
        },
        "id": "l9Qbe8x_LBov",
        "outputId": "24b2bae6-6379-4ae7-b66c-102f5fa3927e"
      },
      "execution_count": 12,
      "outputs": [
        {
          "output_type": "execute_result",
          "data": {
            "text/plain": [
              "<matplotlib.axes._subplots.AxesSubplot at 0x7f2e5bfb97d0>"
            ]
          },
          "metadata": {},
          "execution_count": 12
        },
        {
          "output_type": "display_data",
          "data": {
            "text/plain": [
              "<Figure size 2160x432 with 1 Axes>"
            ],
            "image/png": "[encoded data removed]"
          },
          "metadata": {
            "needs_background": "light"
          }
        }
      ]
    },
    {
      "cell_type": "code",
      "source": [
        "# 선형보관법(linear interpolation)을 적용해 결측치 해결\n",
        "test.temperature = test.temperature.interpolate(method = \"linear\")\n",
        "test.humidity = test.humidity.interpolate(method = \"linear\")\n",
        "test.windspeed = test.windspeed.interpolate(method = \"linear\")\n",
        "test.insolation = test.insolation.interpolate(method = \"linear\")\n",
        "test.precipitation = test.precipitation.interpolate(method = \"linear\")\n",
        "test.info()"
      ],
      "metadata": {
        "colab": {
          "base_uri": "https://localhost:8080/"
        },
        "id": "kVEjUnuuRHzx",
        "outputId": "8fbabbd8-8b41-4446-d209-467b18dd6571"
      },
      "execution_count": 13,
      "outputs": [
        {
          "output_type": "stream",
          "name": "stdout",
          "text": [
            "<class 'pandas.core.frame.DataFrame'>\n",
            "RangeIndex: 10080 entries, 0 to 10079\n",
            "Data columns (total 9 columns):\n",
            " #   Column         Non-Null Count  Dtype         \n",
            "---  ------         --------------  -----         \n",
            " 0   num            10080 non-null  int64         \n",
            " 1   date_time      10080 non-null  datetime64[ns]\n",
            " 2   temperature    10080 non-null  float64       \n",
            " 3   windspeed      10080 non-null  float64       \n",
            " 4   humidity       10080 non-null  float64       \n",
            " 5   precipitation  10080 non-null  float64       \n",
            " 6   insolation     10080 non-null  float64       \n",
            " 7   elec_cool      2296 non-null   float64       \n",
            " 8   solar          1624 non-null   float64       \n",
            "dtypes: datetime64[ns](1), float64(7), int64(1)\n",
            "memory usage: 708.9 KB\n"
          ]
        }
      ]
    },
    {
      "cell_type": "code",
      "source": [
        "# 2. 건물 정보의 결측치 처리\n",
        "# train에 있는 건물별 각 시간의 건물 정보를 그대로 쓸 수 있지 않을까?\n",
        "\n",
        "## to-do \n",
        "# 1) train에 있는 각 건물별로 elec_cool_flag와 solar가 같은지 체크\n",
        "# 결과 : 체크 성공 \n",
        "train.num.value_counts()\n",
        "check = train.groupby(\"num\").sum()\n",
        "check.elec_cool / train.num.value_counts()\n",
        "check.solar / train.num.value_counts()\n",
        "\n",
        "# 2) 같다면, test data에 같은 건물 번호를 가지는 데이터에 연결\n",
        "building_info= train[[\"num\", \"elec_cool\", \"solar\"]].drop_duplicates()\n",
        "# pd.merge : 특정 값(열)을 기준으로 데이터프레임을 병합\n",
        "test = pd.merge(test.drop(columns = [\"elec_cool\", \"solar\"]), building_info, on=\"num\")\n",
        "test"
      ],
      "metadata": {
        "colab": {
          "base_uri": "https://localhost:8080/",
          "height": 424
        },
        "id": "aCQDyWjUSkV1",
        "outputId": "4c874fdb-10e4-4bf9-e903-99f6a424f02e"
      },
      "execution_count": 14,
      "outputs": [
        {
          "output_type": "execute_result",
          "data": {
            "text/plain": [
              "       num           date_time  temperature  windspeed   humidity  \\\n",
              "0        1 2020-08-25 00:00:00    27.800000   1.500000  74.000000   \n",
              "1        1 2020-08-25 01:00:00    27.633333   1.366667  75.333333   \n",
              "2        1 2020-08-25 02:00:00    27.466667   1.233333  76.666667   \n",
              "3        1 2020-08-25 03:00:00    27.300000   1.100000  78.000000   \n",
              "4        1 2020-08-25 04:00:00    26.900000   1.166667  79.666667   \n",
              "...    ...                 ...          ...        ...        ...   \n",
              "10075   60 2020-08-31 19:00:00    28.633333   3.566667  66.000000   \n",
              "10076   60 2020-08-31 20:00:00    28.266667   3.833333  67.000000   \n",
              "10077   60 2020-08-31 21:00:00    27.900000   4.100000  68.000000   \n",
              "10078   60 2020-08-31 22:00:00    27.900000   4.100000  68.000000   \n",
              "10079   60 2020-08-31 23:00:00    27.900000   4.100000  68.000000   \n",
              "\n",
              "       precipitation  insolation  elec_cool  solar  \n",
              "0                0.0    0.000000        0.0    0.0  \n",
              "1                0.0    0.000000        0.0    0.0  \n",
              "2                0.0    0.000000        0.0    0.0  \n",
              "3                0.0    0.000000        0.0    0.0  \n",
              "4                0.0    0.000000        0.0    0.0  \n",
              "...              ...         ...        ...    ...  \n",
              "10075            0.0    0.533333        1.0    1.0  \n",
              "10076            0.0    0.266667        1.0    1.0  \n",
              "10077            0.0    0.000000        1.0    1.0  \n",
              "10078            0.0    0.000000        1.0    1.0  \n",
              "10079            0.0    0.000000        1.0    1.0  \n",
              "\n",
              "[10080 rows x 9 columns]"
            ],
            "text/html": [
              "\n",
              "  <div id=\"df-0b90c0e4-ac8a-42a8-98b0-5b91dd6313a3\">\n",
              "    <div class=\"colab-df-container\">\n",
              "      <div>\n",
              "<style scoped>\n",
              "    .dataframe tbody tr th:only-of-type {\n",
              "        vertical-align: middle;\n",
              "    }\n",
              "\n",
              "    .dataframe tbody tr th {\n",
              "        vertical-align: top;\n",
              "    }\n",
              "\n",
              "    .dataframe thead th {\n",
              "        text-align: right;\n",
              "    }\n",
              "</style>\n",
              "<table border=\"1\" class=\"dataframe\">\n",
              "  <thead>\n",
              "    <tr style=\"text-align: right;\">\n",
              "      <th></th>\n",
              "      <th>num</th>\n",
              "      <th>date_time</th>\n",
              "      <th>temperature</th>\n",
              "      <th>windspeed</th>\n",
              "      <th>humidity</th>\n",
              "      <th>precipitation</th>\n",
              "      <th>insolation</th>\n",
              "      <th>elec_cool</th>\n",
              "      <th>solar</th>\n",
              "    </tr>\n",
              "  </thead>\n",
              "  <tbody>\n",
              "    <tr>\n",
              "      <th>0</th>\n",
              "      <td>1</td>\n",
              "      <td>2020-08-25 00:00:00</td>\n",
              "      <td>27.800000</td>\n",
              "      <td>1.500000</td>\n",
              "      <td>74.000000</td>\n",
              "      <td>0.0</td>\n",
              "      <td>0.000000</td>\n",
              "      <td>0.0</td>\n",
              "      <td>0.0</td>\n",
              "    </tr>\n",
              "    <tr>\n",
              "      <th>1</th>\n",
              "      <td>1</td>\n",
              "      <td>2020-08-25 01:00:00</td>\n",
              "      <td>27.633333</td>\n",
              "      <td>1.366667</td>\n",
              "      <td>75.333333</td>\n",
              "      <td>0.0</td>\n",
              "      <td>0.000000</td>\n",
              "      <td>0.0</td>\n",
              "      <td>0.0</td>\n",
              "    </tr>\n",
              "    <tr>\n",
              "      <th>2</th>\n",
              "      <td>1</td>\n",
              "      <td>2020-08-25 02:00:00</td>\n",
              "      <td>27.466667</td>\n",
              "      <td>1.233333</td>\n",
              "      <td>76.666667</td>\n",
              "      <td>0.0</td>\n",
              "      <td>0.000000</td>\n",
              "      <td>0.0</td>\n",
              "      <td>0.0</td>\n",
              "    </tr>\n",
              "    <tr>\n",
              "      <th>3</th>\n",
              "      <td>1</td>\n",
              "      <td>2020-08-25 03:00:00</td>\n",
              "      <td>27.300000</td>\n",
              "      <td>1.100000</td>\n",
              "      <td>78.000000</td>\n",
              "      <td>0.0</td>\n",
              "      <td>0.000000</td>\n",
              "      <td>0.0</td>\n",
              "      <td>0.0</td>\n",
              "    </tr>\n",
              "    <tr>\n",
              "      <th>4</th>\n",
              "      <td>1</td>\n",
              "      <td>2020-08-25 04:00:00</td>\n",
              "      <td>26.900000</td>\n",
              "      <td>1.166667</td>\n",
              "      <td>79.666667</td>\n",
              "      <td>0.0</td>\n",
              "      <td>0.000000</td>\n",
              "      <td>0.0</td>\n",
              "      <td>0.0</td>\n",
              "    </tr>\n",
              "    <tr>\n",
              "      <th>...</th>\n",
              "      <td>...</td>\n",
              "      <td>...</td>\n",
              "      <td>...</td>\n",
              "      <td>...</td>\n",
              "      <td>...</td>\n",
              "      <td>...</td>\n",
              "      <td>...</td>\n",
              "      <td>...</td>\n",
              "      <td>...</td>\n",
              "    </tr>\n",
              "    <tr>\n",
              "      <th>10075</th>\n",
              "      <td>60</td>\n",
              "      <td>2020-08-31 19:00:00</td>\n",
              "      <td>28.633333</td>\n",
              "      <td>3.566667</td>\n",
              "      <td>66.000000</td>\n",
              "      <td>0.0</td>\n",
              "      <td>0.533333</td>\n",
              "      <td>1.0</td>\n",
              "      <td>1.0</td>\n",
              "    </tr>\n",
              "    <tr>\n",
              "      <th>10076</th>\n",
              "      <td>60</td>\n",
              "      <td>2020-08-31 20:00:00</td>\n",
              "      <td>28.266667</td>\n",
              "      <td>3.833333</td>\n",
              "      <td>67.000000</td>\n",
              "      <td>0.0</td>\n",
              "      <td>0.266667</td>\n",
              "      <td>1.0</td>\n",
              "      <td>1.0</td>\n",
              "    </tr>\n",
              "    <tr>\n",
              "      <th>10077</th>\n",
              "      <td>60</td>\n",
              "      <td>2020-08-31 21:00:00</td>\n",
              "      <td>27.900000</td>\n",
              "      <td>4.100000</td>\n",
              "      <td>68.000000</td>\n",
              "      <td>0.0</td>\n",
              "      <td>0.000000</td>\n",
              "      <td>1.0</td>\n",
              "      <td>1.0</td>\n",
              "    </tr>\n",
              "    <tr>\n",
              "      <th>10078</th>\n",
              "      <td>60</td>\n",
              "      <td>2020-08-31 22:00:00</td>\n",
              "      <td>27.900000</td>\n",
              "      <td>4.100000</td>\n",
              "      <td>68.000000</td>\n",
              "      <td>0.0</td>\n",
              "      <td>0.000000</td>\n",
              "      <td>1.0</td>\n",
              "      <td>1.0</td>\n",
              "    </tr>\n",
              "    <tr>\n",
              "      <th>10079</th>\n",
              "      <td>60</td>\n",
              "      <td>2020-08-31 23:00:00</td>\n",
              "      <td>27.900000</td>\n",
              "      <td>4.100000</td>\n",
              "      <td>68.000000</td>\n",
              "      <td>0.0</td>\n",
              "      <td>0.000000</td>\n",
              "      <td>1.0</td>\n",
              "      <td>1.0</td>\n",
              "    </tr>\n",
              "  </tbody>\n",
              "</table>\n",
              "<p>10080 rows × 9 columns</p>\n",
              "</div>\n",
              "      <button class=\"colab-df-convert\" onclick=\"convertToInteractive('df-0b90c0e4-ac8a-42a8-98b0-5b91dd6313a3')\"\n",
              "              title=\"Convert this dataframe to an interactive table.\"\n",
              "              style=\"display:none;\">\n",
              "        \n",
              "  <svg xmlns=\"http://www.w3.org/2000/svg\" height=\"24px\"viewBox=\"0 0 24 24\"\n",
              "       width=\"24px\">\n",
              "    <path d=\"M0 0h24v24H0V0z\" fill=\"none\"/>\n",
              "    <path d=\"M18.56 5.44l.94 2.06.94-2.06 2.06-.94-2.06-.94-.94-2.06-.94 2.06-2.06.94zm-11 1L8.5 8.5l.94-2.06 2.06-.94-2.06-.94L8.5 2.5l-.94 2.06-2.06.94zm10 10l.94 2.06.94-2.06 2.06-.94-2.06-.94-.94-2.06-.94 2.06-2.06.94z\"/><path d=\"M17.41 7.96l-1.37-1.37c-.4-.4-.92-.59-1.43-.59-.52 0-1.04.2-1.43.59L10.3 9.45l-7.72 7.72c-.78.78-.78 2.05 0 2.83L4 21.41c.39.39.9.59 1.41.59.51 0 1.02-.2 1.41-.59l7.78-7.78 2.81-2.81c.8-.78.8-2.07 0-2.86zM5.41 20L4 18.59l7.72-7.72 1.47 1.35L5.41 20z\"/>\n",
              "  </svg>\n",
              "      </button>\n",
              "      \n",
              "  <style>\n",
              "    .colab-df-container {\n",
              "      display:flex;\n",
              "      flex-wrap:wrap;\n",
              "      gap: 12px;\n",
              "    }\n",
              "\n",
              "    .colab-df-convert {\n",
              "      background-color: #E8F0FE;\n",
              "      border: none;\n",
              "      border-radius: 50%;\n",
              "      cursor: pointer;\n",
              "      display: none;\n",
              "      fill: #1967D2;\n",
              "      height: 32px;\n",
              "      padding: 0 0 0 0;\n",
              "      width: 32px;\n",
              "    }\n",
              "\n",
              "    .colab-df-convert:hover {\n",
              "      background-color: #E2EBFA;\n",
              "      box-shadow: 0px 1px 2px rgba(60, 64, 67, 0.3), 0px 1px 3px 1px rgba(60, 64, 67, 0.15);\n",
              "      fill: #174EA6;\n",
              "    }\n",
              "\n",
              "    [theme=dark] .colab-df-convert {\n",
              "      background-color: #3B4455;\n",
              "      fill: #D2E3FC;\n",
              "    }\n",
              "\n",
              "    [theme=dark] .colab-df-convert:hover {\n",
              "      background-color: #434B5C;\n",
              "      box-shadow: 0px 1px 3px 1px rgba(0, 0, 0, 0.15);\n",
              "      filter: drop-shadow(0px 1px 2px rgba(0, 0, 0, 0.3));\n",
              "      fill: #FFFFFF;\n",
              "    }\n",
              "  </style>\n",
              "\n",
              "      <script>\n",
              "        const buttonEl =\n",
              "          document.querySelector('#df-0b90c0e4-ac8a-42a8-98b0-5b91dd6313a3 button.colab-df-convert');\n",
              "        buttonEl.style.display =\n",
              "          google.colab.kernel.accessAllowed ? 'block' : 'none';\n",
              "\n",
              "        async function convertToInteractive(key) {\n",
              "          const element = document.querySelector('#df-0b90c0e4-ac8a-42a8-98b0-5b91dd6313a3');\n",
              "          const dataTable =\n",
              "            await google.colab.kernel.invokeFunction('convertToInteractive',\n",
              "                                                     [key], {});\n",
              "          if (!dataTable) return;\n",
              "\n",
              "          const docLinkHtml = 'Like what you see? Visit the ' +\n",
              "            '<a target=\"_blank\" href=https://colab.research.google.com/notebooks/data_table.ipynb>data table notebook</a>'\n",
              "            + ' to learn more about interactive tables.';\n",
              "          element.innerHTML = '';\n",
              "          dataTable['output_type'] = 'display_data';\n",
              "          await google.colab.output.renderOutput(dataTable, element);\n",
              "          const docLink = document.createElement('div');\n",
              "          docLink.innerHTML = docLinkHtml;\n",
              "          element.appendChild(docLink);\n",
              "        }\n",
              "      </script>\n",
              "    </div>\n",
              "  </div>\n",
              "  "
            ]
          },
          "metadata": {},
          "execution_count": 14
        }
      ]
    },
    {
      "cell_type": "code",
      "source": [
        "# Time feature (derived feature) -> 회귀분석 안하는 대신 시간정보를 가공해 새로운 feature를 만들어주자. \n",
        "# train.date_time.dt.date\n",
        "# train.date_time.dt.day\n",
        "# train.date_time.dt.month\n",
        "# train.date_time.dt.year\n",
        "# train.date_time.dt.dayofweek # 요일정보 : 월화수목금토일 -> 0123456\n",
        "\n",
        "# 함수로 만들면 커스터마이징 가능하다.\n",
        "# def is_weekend(x) : \n",
        "#   if x.dt.datofweek in [5,6] :\n",
        "#     return 1\n",
        "#   else: \n",
        "#     return 0\n",
        "\n",
        "def convert_hour(x) : \n",
        "  return x.hour\n",
        "\n",
        "train['dow'] = train.date_time.dt.dayofweek\n",
        "train['hour'] = train.date_time.apply(convert_hour)\n",
        "train"
      ],
      "metadata": {
        "colab": {
          "base_uri": "https://localhost:8080/",
          "height": 424
        },
        "id": "mrAdNgrxTd7R",
        "outputId": "697210ab-3598-4965-ab53-44b3ec9b2df0"
      },
      "execution_count": 15,
      "outputs": [
        {
          "output_type": "execute_result",
          "data": {
            "text/plain": [
              "        num           date_time    target  temperature  windspeed  humidity  \\\n",
              "0         1 2020-06-01 00:00:00  8179.056         17.6        2.5      92.0   \n",
              "1         1 2020-06-01 01:00:00  8135.640         17.7        2.9      91.0   \n",
              "2         1 2020-06-01 02:00:00  8107.128         17.5        3.2      91.0   \n",
              "3         1 2020-06-01 03:00:00  8048.808         17.1        3.2      91.0   \n",
              "4         1 2020-06-01 04:00:00  8043.624         17.0        3.3      92.0   \n",
              "...     ...                 ...       ...          ...        ...       ...   \n",
              "122395   60 2020-08-24 19:00:00  4114.368         27.8        2.3      68.0   \n",
              "122396   60 2020-08-24 20:00:00  3975.696         27.3        1.2      71.0   \n",
              "122397   60 2020-08-24 21:00:00  3572.208         27.3        1.8      71.0   \n",
              "122398   60 2020-08-24 22:00:00  3299.184         27.1        1.8      74.0   \n",
              "122399   60 2020-08-24 23:00:00  3204.576         27.1        2.6      75.0   \n",
              "\n",
              "        precipitation  insolation  elec_cool  solar  dow  hour  \n",
              "0                 0.8         0.0        0.0    0.0    0     0  \n",
              "1                 0.3         0.0        0.0    0.0    0     1  \n",
              "2                 0.0         0.0        0.0    0.0    0     2  \n",
              "3                 0.0         0.0        0.0    0.0    0     3  \n",
              "4                 0.0         0.0        0.0    0.0    0     4  \n",
              "...               ...         ...        ...    ...  ...   ...  \n",
              "122395            0.0         0.7        1.0    1.0    0    19  \n",
              "122396            0.0         0.0        1.0    1.0    0    20  \n",
              "122397            0.0         0.0        1.0    1.0    0    21  \n",
              "122398            0.0         0.0        1.0    1.0    0    22  \n",
              "122399            0.0         0.0        1.0    1.0    0    23  \n",
              "\n",
              "[122400 rows x 12 columns]"
            ],
            "text/html": [
              "\n",
              "  <div id=\"df-9e57a131-9e0e-4ced-8718-c6c46e65574f\">\n",
              "    <div class=\"colab-df-container\">\n",
              "      <div>\n",
              "<style scoped>\n",
              "    .dataframe tbody tr th:only-of-type {\n",
              "        vertical-align: middle;\n",
              "    }\n",
              "\n",
              "    .dataframe tbody tr th {\n",
              "        vertical-align: top;\n",
              "    }\n",
              "\n",
              "    .dataframe thead th {\n",
              "        text-align: right;\n",
              "    }\n",
              "</style>\n",
              "<table border=\"1\" class=\"dataframe\">\n",
              "  <thead>\n",
              "    <tr style=\"text-align: right;\">\n",
              "      <th></th>\n",
              "      <th>num</th>\n",
              "      <th>date_time</th>\n",
              "      <th>target</th>\n",
              "      <th>temperature</th>\n",
              "      <th>windspeed</th>\n",
              "      <th>humidity</th>\n",
              "      <th>precipitation</th>\n",
              "      <th>insolation</th>\n",
              "      <th>elec_cool</th>\n",
              "      <th>solar</th>\n",
              "      <th>dow</th>\n",
              "      <th>hour</th>\n",
              "    </tr>\n",
              "  </thead>\n",
              "  <tbody>\n",
              "    <tr>\n",
              "      <th>0</th>\n",
              "      <td>1</td>\n",
              "      <td>2020-06-01 00:00:00</td>\n",
              "      <td>8179.056</td>\n",
              "      <td>17.6</td>\n",
              "      <td>2.5</td>\n",
              "      <td>92.0</td>\n",
              "      <td>0.8</td>\n",
              "      <td>0.0</td>\n",
              "      <td>0.0</td>\n",
              "      <td>0.0</td>\n",
              "      <td>0</td>\n",
              "      <td>0</td>\n",
              "    </tr>\n",
              "    <tr>\n",
              "      <th>1</th>\n",
              "      <td>1</td>\n",
              "      <td>2020-06-01 01:00:00</td>\n",
              "      <td>8135.640</td>\n",
              "      <td>17.7</td>\n",
              "      <td>2.9</td>\n",
              "      <td>91.0</td>\n",
              "      <td>0.3</td>\n",
              "      <td>0.0</td>\n",
              "      <td>0.0</td>\n",
              "      <td>0.0</td>\n",
              "      <td>0</td>\n",
              "      <td>1</td>\n",
              "    </tr>\n",
              "    <tr>\n",
              "      <th>2</th>\n",
              "      <td>1</td>\n",
              "      <td>2020-06-01 02:00:00</td>\n",
              "      <td>8107.128</td>\n",
              "      <td>17.5</td>\n",
              "      <td>3.2</td>\n",
              "      <td>91.0</td>\n",
              "      <td>0.0</td>\n",
              "      <td>0.0</td>\n",
              "      <td>0.0</td>\n",
              "      <td>0.0</td>\n",
              "      <td>0</td>\n",
              "      <td>2</td>\n",
              "    </tr>\n",
              "    <tr>\n",
              "      <th>3</th>\n",
              "      <td>1</td>\n",
              "      <td>2020-06-01 03:00:00</td>\n",
              "      <td>8048.808</td>\n",
              "      <td>17.1</td>\n",
              "      <td>3.2</td>\n",
              "      <td>91.0</td>\n",
              "      <td>0.0</td>\n",
              "      <td>0.0</td>\n",
              "      <td>0.0</td>\n",
              "      <td>0.0</td>\n",
              "      <td>0</td>\n",
              "      <td>3</td>\n",
              "    </tr>\n",
              "    <tr>\n",
              "      <th>4</th>\n",
              "      <td>1</td>\n",
              "      <td>2020-06-01 04:00:00</td>\n",
              "      <td>8043.624</td>\n",
              "      <td>17.0</td>\n",
              "      <td>3.3</td>\n",
              "      <td>92.0</td>\n",
              "      <td>0.0</td>\n",
              "      <td>0.0</td>\n",
              "      <td>0.0</td>\n",
              "      <td>0.0</td>\n",
              "      <td>0</td>\n",
              "      <td>4</td>\n",
              "    </tr>\n",
              "    <tr>\n",
              "      <th>...</th>\n",
              "      <td>...</td>\n",
              "      <td>...</td>\n",
              "      <td>...</td>\n",
              "      <td>...</td>\n",
              "      <td>...</td>\n",
              "      <td>...</td>\n",
              "      <td>...</td>\n",
              "      <td>...</td>\n",
              "      <td>...</td>\n",
              "      <td>...</td>\n",
              "      <td>...</td>\n",
              "      <td>...</td>\n",
              "    </tr>\n",
              "    <tr>\n",
              "      <th>122395</th>\n",
              "      <td>60</td>\n",
              "      <td>2020-08-24 19:00:00</td>\n",
              "      <td>4114.368</td>\n",
              "      <td>27.8</td>\n",
              "      <td>2.3</td>\n",
              "      <td>68.0</td>\n",
              "      <td>0.0</td>\n",
              "      <td>0.7</td>\n",
              "      <td>1.0</td>\n",
              "      <td>1.0</td>\n",
              "      <td>0</td>\n",
              "      <td>19</td>\n",
              "    </tr>\n",
              "    <tr>\n",
              "      <th>122396</th>\n",
              "      <td>60</td>\n",
              "      <td>2020-08-24 20:00:00</td>\n",
              "      <td>3975.696</td>\n",
              "      <td>27.3</td>\n",
              "      <td>1.2</td>\n",
              "      <td>71.0</td>\n",
              "      <td>0.0</td>\n",
              "      <td>0.0</td>\n",
              "      <td>1.0</td>\n",
              "      <td>1.0</td>\n",
              "      <td>0</td>\n",
              "      <td>20</td>\n",
              "    </tr>\n",
              "    <tr>\n",
              "      <th>122397</th>\n",
              "      <td>60</td>\n",
              "      <td>2020-08-24 21:00:00</td>\n",
              "      <td>3572.208</td>\n",
              "      <td>27.3</td>\n",
              "      <td>1.8</td>\n",
              "      <td>71.0</td>\n",
              "      <td>0.0</td>\n",
              "      <td>0.0</td>\n",
              "      <td>1.0</td>\n",
              "      <td>1.0</td>\n",
              "      <td>0</td>\n",
              "      <td>21</td>\n",
              "    </tr>\n",
              "    <tr>\n",
              "      <th>122398</th>\n",
              "      <td>60</td>\n",
              "      <td>2020-08-24 22:00:00</td>\n",
              "      <td>3299.184</td>\n",
              "      <td>27.1</td>\n",
              "      <td>1.8</td>\n",
              "      <td>74.0</td>\n",
              "      <td>0.0</td>\n",
              "      <td>0.0</td>\n",
              "      <td>1.0</td>\n",
              "      <td>1.0</td>\n",
              "      <td>0</td>\n",
              "      <td>22</td>\n",
              "    </tr>\n",
              "    <tr>\n",
              "      <th>122399</th>\n",
              "      <td>60</td>\n",
              "      <td>2020-08-24 23:00:00</td>\n",
              "      <td>3204.576</td>\n",
              "      <td>27.1</td>\n",
              "      <td>2.6</td>\n",
              "      <td>75.0</td>\n",
              "      <td>0.0</td>\n",
              "      <td>0.0</td>\n",
              "      <td>1.0</td>\n",
              "      <td>1.0</td>\n",
              "      <td>0</td>\n",
              "      <td>23</td>\n",
              "    </tr>\n",
              "  </tbody>\n",
              "</table>\n",
              "<p>122400 rows × 12 columns</p>\n",
              "</div>\n",
              "      <button class=\"colab-df-convert\" onclick=\"convertToInteractive('df-9e57a131-9e0e-4ced-8718-c6c46e65574f')\"\n",
              "              title=\"Convert this dataframe to an interactive table.\"\n",
              "              style=\"display:none;\">\n",
              "        \n",
              "  <svg xmlns=\"http://www.w3.org/2000/svg\" height=\"24px\"viewBox=\"0 0 24 24\"\n",
              "       width=\"24px\">\n",
              "    <path d=\"M0 0h24v24H0V0z\" fill=\"none\"/>\n",
              "    <path d=\"M18.56 5.44l.94 2.06.94-2.06 2.06-.94-2.06-.94-.94-2.06-.94 2.06-2.06.94zm-11 1L8.5 8.5l.94-2.06 2.06-.94-2.06-.94L8.5 2.5l-.94 2.06-2.06.94zm10 10l.94 2.06.94-2.06 2.06-.94-2.06-.94-.94-2.06-.94 2.06-2.06.94z\"/><path d=\"M17.41 7.96l-1.37-1.37c-.4-.4-.92-.59-1.43-.59-.52 0-1.04.2-1.43.59L10.3 9.45l-7.72 7.72c-.78.78-.78 2.05 0 2.83L4 21.41c.39.39.9.59 1.41.59.51 0 1.02-.2 1.41-.59l7.78-7.78 2.81-2.81c.8-.78.8-2.07 0-2.86zM5.41 20L4 18.59l7.72-7.72 1.47 1.35L5.41 20z\"/>\n",
              "  </svg>\n",
              "      </button>\n",
              "      \n",
              "  <style>\n",
              "    .colab-df-container {\n",
              "      display:flex;\n",
              "      flex-wrap:wrap;\n",
              "      gap: 12px;\n",
              "    }\n",
              "\n",
              "    .colab-df-convert {\n",
              "      background-color: #E8F0FE;\n",
              "      border: none;\n",
              "      border-radius: 50%;\n",
              "      cursor: pointer;\n",
              "      display: none;\n",
              "      fill: #1967D2;\n",
              "      height: 32px;\n",
              "      padding: 0 0 0 0;\n",
              "      width: 32px;\n",
              "    }\n",
              "\n",
              "    .colab-df-convert:hover {\n",
              "      background-color: #E2EBFA;\n",
              "      box-shadow: 0px 1px 2px rgba(60, 64, 67, 0.3), 0px 1px 3px 1px rgba(60, 64, 67, 0.15);\n",
              "      fill: #174EA6;\n",
              "    }\n",
              "\n",
              "    [theme=dark] .colab-df-convert {\n",
              "      background-color: #3B4455;\n",
              "      fill: #D2E3FC;\n",
              "    }\n",
              "\n",
              "    [theme=dark] .colab-df-convert:hover {\n",
              "      background-color: #434B5C;\n",
              "      box-shadow: 0px 1px 3px 1px rgba(0, 0, 0, 0.15);\n",
              "      filter: drop-shadow(0px 1px 2px rgba(0, 0, 0, 0.3));\n",
              "      fill: #FFFFFF;\n",
              "    }\n",
              "  </style>\n",
              "\n",
              "      <script>\n",
              "        const buttonEl =\n",
              "          document.querySelector('#df-9e57a131-9e0e-4ced-8718-c6c46e65574f button.colab-df-convert');\n",
              "        buttonEl.style.display =\n",
              "          google.colab.kernel.accessAllowed ? 'block' : 'none';\n",
              "\n",
              "        async function convertToInteractive(key) {\n",
              "          const element = document.querySelector('#df-9e57a131-9e0e-4ced-8718-c6c46e65574f');\n",
              "          const dataTable =\n",
              "            await google.colab.kernel.invokeFunction('convertToInteractive',\n",
              "                                                     [key], {});\n",
              "          if (!dataTable) return;\n",
              "\n",
              "          const docLinkHtml = 'Like what you see? Visit the ' +\n",
              "            '<a target=\"_blank\" href=https://colab.research.google.com/notebooks/data_table.ipynb>data table notebook</a>'\n",
              "            + ' to learn more about interactive tables.';\n",
              "          element.innerHTML = '';\n",
              "          dataTable['output_type'] = 'display_data';\n",
              "          await google.colab.output.renderOutput(dataTable, element);\n",
              "          const docLink = document.createElement('div');\n",
              "          docLink.innerHTML = docLinkHtml;\n",
              "          element.appendChild(docLink);\n",
              "        }\n",
              "      </script>\n",
              "    </div>\n",
              "  </div>\n",
              "  "
            ]
          },
          "metadata": {},
          "execution_count": 15
        }
      ]
    },
    {
      "cell_type": "markdown",
      "source": [
        "### 3. Data Preparation\n",
        "- 전력 사용량을 기준으로 그룹을 나누어보자 : 결과 언급하면 총 4개의 그룹 만들었다.\n",
        "- X_train & X_val data에 groupby를 이용해 4개의 데이터셋을 만들었다.\n",
        "- y_train & y_val data는 전력량 정보인 target이 없다. 따라서 인덱스 정보를 가지고 4개의 데이터셋을 만들어준다."
      ],
      "metadata": {
        "id": "-UK4iIm1CsSX"
      }
    },
    {
      "cell_type": "code",
      "source": [
        "# 예측에 사용하지 않을 columns\n",
        "train = train.drop(columns = [\"date_time\"])"
      ],
      "metadata": {
        "id": "E9acVNqWDN7t"
      },
      "execution_count": 16,
      "outputs": []
    },
    {
      "cell_type": "code",
      "source": [
        "# 건물별 전략사용량의 평균을 랭크를 기준으로 확인해보자.\n",
        "mean_target = pd.DataFrame(train.groupby(\"num\").mean().target)\n",
        "mean_target.rank(ascending = False)\n",
        "sns.histplot(data=mean_target, x = \"target\")\n",
        "#mean_target.hist(bins = 10)"
      ],
      "metadata": {
        "colab": {
          "base_uri": "https://localhost:8080/",
          "height": 297
        },
        "id": "ED_B4483kAZI",
        "outputId": "50430715-3dc9-4f63-a339-c94d592591f9"
      },
      "execution_count": 17,
      "outputs": [
        {
          "output_type": "execute_result",
          "data": {
            "text/plain": [
              "<matplotlib.axes._subplots.AxesSubplot at 0x7f2e5b9ff4d0>"
            ]
          },
          "metadata": {},
          "execution_count": 17
        },
        {
          "output_type": "display_data",
          "data": {
            "text/plain": [
              "<Figure size 432x288 with 1 Axes>"
            ],
            "image/png": "[encoded data removed]"
          },
          "metadata": {
            "needs_background": "light"
          }
        }
      ]
    },
    {
      "cell_type": "code",
      "source": [
        "mark1 = mean_target < 2000\n",
        "mark2 = mean_target < 4000\n",
        "mark3 = mean_target < 7000\n",
        "mark4 = mean_target > 7000\n",
        "\n",
        "group1 = [i for i in mean_target[mark1].dropna().index]\n",
        "group2 = [i for i in mean_target[mark2 & ~mark1].dropna().index]\n",
        "group3 = [i for i in mean_target[mark3 & ~mark2].dropna().index]\n",
        "group4 = [i for i in mean_target[mark4].dropna().index]\n",
        "\n",
        "print(group1, len(group1))\n",
        "print(group2, len(group2))\n",
        "print(group3, len(group3))\n",
        "print(group4, len(group4))"
      ],
      "metadata": {
        "colab": {
          "base_uri": "https://localhost:8080/"
        },
        "id": "p2og19Rrq1La",
        "outputId": "a35c78d7-70c3-4cc5-a874-da2760dd6610"
      },
      "execution_count": 18,
      "outputs": [
        {
          "output_type": "stream",
          "name": "stdout",
          "text": [
            "[2, 4, 6, 7, 9, 10, 12, 13, 14, 16, 17, 18, 19, 20, 21, 22, 23, 25, 27, 29, 34, 35, 36, 37, 39, 41, 43, 45, 46, 48, 49, 50, 51, 53, 56, 58, 59] 37\n",
            "[3, 5, 11, 15, 24, 26, 28, 32, 33, 40, 42, 44, 47, 52, 55, 57, 60] 17\n",
            "[30, 31, 54] 3\n",
            "[1, 8, 38] 3\n"
          ]
        }
      ]
    },
    {
      "cell_type": "code",
      "source": [
        "# 그룹별 target simple plot 찍어보기\n",
        "plt.figure(figsize=(30, 24))\n",
        "plt.suptitle(\"group1 = mean_target < 2000\", fontsize=30, y=0.95)\n",
        "for i, num in enumerate(group1) : \n",
        "    ax = plt.subplot(8, 5, i + 1)\n",
        "    data=train.loc[train.num == num]\n",
        "    data.target.plot(ax = ax)\n",
        "\n",
        "plt.figure(figsize=(30, 24))\n",
        "plt.suptitle(\"group2 = mean_target < 4000\", fontsize=30, y=0.95)\n",
        "for i, num in enumerate(group2) : \n",
        "    ax = plt.subplot(8, 5, i + 1)\n",
        "    data=train.loc[train.num == num]\n",
        "    data.target.plot(ax = ax)\n",
        "\n",
        "plt.figure(figsize=(30, 5))\n",
        "plt.suptitle(\"group3 = mean_target < 7000\", fontsize=30, y=0.95)\n",
        "for i, num in enumerate(group3) : \n",
        "    ax = plt.subplot(8, 5, i + 1)\n",
        "    data=train.loc[train.num == num]\n",
        "    data.target.plot(ax = ax)\n",
        "\n",
        "plt.figure(figsize=(30, 5))\n",
        "plt.suptitle(\"group4 = mean_target > 7000\", fontsize=30, y=0.95)\n",
        "for i, num in enumerate(group4) : \n",
        "    ax = plt.subplot(8, 5, i + 1)\n",
        "    data=train.loc[train.num == num]\n",
        "    data.target.plot(ax = ax)"
      ],
      "metadata": {
        "id": "QC6sjioJtumG"
      },
      "execution_count": null,
      "outputs": []
    },
    {
      "cell_type": "code",
      "source": [
        "# def grouped_train_df(group_num, df) : \n",
        "#   grouped_df = pd.DataFrame()\n",
        "#   for num in group_num : \n",
        "#     grouped_df = grouped_df.append(df[df.num == num])\n",
        "#     #print(type(grouped_df))\n",
        "#   return grouped_df\n",
        "\n",
        "# target_nums = [group1, group2, group3, group4]\n",
        "# names = [\"grouped_X_train\", \"grouped_X_val\"]\n",
        "# df_set = [train, X_val]\n",
        "\n",
        "# total_grouped_train_dic = {} \n",
        "# for i, target_df in enumerate(df_set) : \n",
        "#   #print(target_df)\n",
        "#   for nums in target_nums : \n",
        "#     #print(group)\n",
        "#     #print(group_num.index(group) + 1)\n",
        "#     name = names[i] + str(target_nums.index(nums) + 1)\n",
        "#     #print(name)\n",
        "#     total_grouped_train_dic[name] = grouped_train_df(group_num = nums, df = target_df)\n",
        "#     #print(type(name))\n",
        "#     #total_grouped_list.append(name)\n",
        "\n",
        "# total_grouped_train_dic.keys()"
      ],
      "metadata": {
        "id": "-KBOLqVIghKS"
      },
      "execution_count": null,
      "outputs": []
    },
    {
      "cell_type": "code",
      "source": [
        "def grouped_train_df(group_num, df) : \n",
        "  grouped_df = pd.DataFrame()\n",
        "  for num in group_num : \n",
        "    grouped_df = grouped_df.append(df[df.num == num])\n",
        "  return grouped_df\n",
        "\n",
        "target_nums = [group1, group2, group3, group4]\n",
        "names = [\"grouped_train\"]\n",
        "df_set = [train]\n",
        "\n",
        "total_grouped_train_dic = {} \n",
        "for i, target_df in enumerate(df_set) : \n",
        "  for nums in target_nums : \n",
        "    name = names[i] + str(target_nums.index(nums) + 1)\n",
        "    total_grouped_train_dic[name] = grouped_train_df(group_num = nums, df = target_df)\n",
        "\n",
        "total_grouped_train_dic.keys()"
      ],
      "metadata": {
        "colab": {
          "base_uri": "https://localhost:8080/"
        },
        "id": "8uxcsWoa04Dk",
        "outputId": "065bfdea-b43d-4ce4-99c8-6cea00918e0a"
      },
      "execution_count": 86,
      "outputs": [
        {
          "output_type": "execute_result",
          "data": {
            "text/plain": [
              "dict_keys(['grouped_train1', 'grouped_train2', 'grouped_train3', 'grouped_train4'])"
            ]
          },
          "metadata": {},
          "execution_count": 86
        }
      ]
    },
    {
      "cell_type": "code",
      "source": [
        "total_grouped_train_dic[\"grouped_train1\"].shape"
      ],
      "metadata": {
        "colab": {
          "base_uri": "https://localhost:8080/"
        },
        "id": "53skIA9OqilY",
        "outputId": "4b3e823d-4065-4e83-942c-5c90c45ed4ff"
      },
      "execution_count": 105,
      "outputs": [
        {
          "output_type": "execute_result",
          "data": {
            "text/plain": [
              "(75480, 11)"
            ]
          },
          "metadata": {},
          "execution_count": 105
        }
      ]
    },
    {
      "cell_type": "code",
      "source": [
        "# 트테트테\n",
        "# validation dataset과 test dataset의 크기를 맞추면 좋다.\n",
        "from sklearn.model_selection import train_test_split\n",
        "\n",
        "def make_X_y(df) : \n",
        "    X = df.drop(columns = \"target\") # feature vector\n",
        "    y = df.target # target value\n",
        "    return X, y\n",
        "  \n",
        "def train_val(X_df, y_df) : \n",
        "  X, y = make_X_y(df)\n",
        "  X_train, X_val, y_train, y_val = train_test_split(X, y, test_size=0.1, random_state=42)\n",
        "  return X_train, X_val, y_train, y_val\n",
        "\n",
        "total_split_dic = {}\n",
        "for name, my_df in total_grouped_train_dic.items() : \n",
        "  X, y = make_X_y(my_df)\n",
        "  X_train, X_val, y_train, y_val = train_val(X_df = X, y_df = y)\n",
        "  total_split_dic[name] = X_train, X_val, y_train, y_val\n",
        "\n",
        "total_split_dic.keys()\n",
        "# total_split_dic.keys() 간단 설명\n",
        "# total_split_dic[\"grouped_train1\"][0] = X_train\n",
        "# total_split_dic[\"grouped_train1\"][1] = X_val\n",
        "# total_split_dic[\"grouped_train1\"][2] = y_train\n",
        "# total_split_dic[\"grouped_train1\"][3] = y_val"
      ],
      "metadata": {
        "colab": {
          "base_uri": "https://localhost:8080/"
        },
        "id": "fsy3Y3Ksu7LC",
        "outputId": "742883ef-e419-4719-f9d4-b178ff2e1ad5"
      },
      "execution_count": 164,
      "outputs": [
        {
          "output_type": "execute_result",
          "data": {
            "text/plain": [
              "dict_keys(['grouped_train1', 'grouped_train2', 'grouped_train3', 'grouped_train4'])"
            ]
          },
          "metadata": {},
          "execution_count": 164
        }
      ]
    },
    {
      "cell_type": "code",
      "source": [
        "# 'grouped_X_train1', 'grouped_X_train2' : 67852 rows ---> LGBM 사용해보자\n",
        "# 'grouped_X_train3', 'grouped_X_train4' : 5537 rows ----> 10000개보다 작음. RandomForestRegressor 사용하자"
      ],
      "metadata": {
        "id": "Mb1iVwVcXalI"
      },
      "execution_count": 21,
      "outputs": []
    },
    {
      "cell_type": "markdown",
      "source": [
        "### 4. Training \n",
        "  1. 사용한 regressor\n",
        "\n",
        "    1) 'grouped_X_train1', 'grouped_X_train2' : 67852 rows ---> LGBM 사용해보자\n",
        "\n",
        "    2) 'grouped_X_train3', 'grouped_X_train4' : 5537 rows ----> 1000개보다\n",
        "    작음. RandomForestRegressor 사용하자\n",
        "\n",
        "\n",
        "  2. total_split_dic 이해를 위한 설명 : 키 하나에 4개의 값이 들어가 있다.\n",
        "    \n",
        "\n",
        "\n",
        "    ex)\n",
        "    total_split_dic[\"grouped_train1\"][0] = X_train\n",
        "    total_split_dic[\"grouped_train1\"][1] = X_val\n",
        "    total_split_dic[\"grouped_train1\"][2] = y_train\n",
        "    total_split_dic[\"grouped_train1\"][3] = y_val"
      ],
      "metadata": {
        "id": "LPkE682kF97r"
      }
    },
    {
      "cell_type": "code",
      "source": [
        "from lightgbm.sklearn import LGBMRegressor\n",
        "from sklearn.ensemble import RandomForestRegressor\n",
        "\n",
        "reg = LGBMRegressor()\n",
        "reg2 = RandomForestRegressor()\n",
        "\n",
        "reg.fit(total_split_dic[\"grouped_train1\"][0], total_split_dic[\"grouped_train1\"][2])\n",
        "reg.fit(total_split_dic[\"grouped_train2\"][0], total_split_dic[\"grouped_train2\"][2])\n",
        "\n",
        "reg2.fit(total_split_dic[\"grouped_train3\"][0], total_split_dic[\"grouped_train3\"][2])\n",
        "reg2.fit(total_split_dic[\"grouped_train4\"][0], total_split_dic[\"grouped_train4\"][2])"
      ],
      "metadata": {
        "colab": {
          "base_uri": "https://localhost:8080/"
        },
        "id": "HB-rI-b8LZeK",
        "outputId": "476a6a02-983a-4488-a8b3-698ab5cc83b6"
      },
      "execution_count": 153,
      "outputs": [
        {
          "output_type": "execute_result",
          "data": {
            "text/plain": [
              "RandomForestRegressor()"
            ]
          },
          "metadata": {},
          "execution_count": 153
        }
      ]
    },
    {
      "cell_type": "markdown",
      "source": [
        "##### 그룹을 나누어 트레이닝 시키자."
      ],
      "metadata": {
        "id": "BxecUDfFUCgu"
      }
    },
    {
      "cell_type": "markdown",
      "source": [
        "### 5. Evaluation\n",
        "- SMAPE(Symmetric mean absolute percentage error) : 작을 수록 성과가 좋음을 의미"
      ],
      "metadata": {
        "id": "qVIJyurDPoJS"
      }
    },
    {
      "cell_type": "code",
      "source": [
        "def smape(true, pred):\n",
        "    true = np.array(true)  # np.array로 바꿔야 에러 없음\n",
        "    pred = np.array(pred)\n",
        "    return np.mean((np.abs(true-pred))/(np.abs(true) + np.abs(pred)))  # *2 , *100은 상수이므로 생략\n",
        "\n",
        "pred_train_1 = reg.predict(total_split_dic[\"grouped_train1\"][0])\n",
        "pred_val_1 = reg.predict(total_split_dic[\"grouped_train1\"][1])\n",
        "pred_train_2 = reg.predict(total_split_dic[\"grouped_train2\"][0])\n",
        "pred_val_2 = reg.predict(total_split_dic[\"grouped_train2\"][1])\n",
        "\n",
        "\n",
        "pred_train_3 = reg2.predict(total_split_dic[\"grouped_train3\"][0])\n",
        "pred_val_3 = reg2.predict(total_split_dic[\"grouped_train3\"][1])\n",
        "pred_train_4 = reg2.predict(total_split_dic[\"grouped_train4\"][0])\n",
        "pred_val_4 = reg2.predict(total_split_dic[\"grouped_train4\"][1])\n",
        "\n",
        "print(\"--- LightGBM Regressor for group 1 & 2 ---\")\n",
        "print(\"group1 : Train SMAPE : %.4f\" % smape(total_split_dic[\"grouped_train1\"][2], pred_train_1))\n",
        "print(\"group1 : val SMAPE : %.4f\" %smape(total_split_dic[\"grouped_train1\"][3], pred_val_1))\n",
        "print(\"group2 : Train SMAPE : %.4f\" % smape(total_split_dic[\"grouped_train2\"][2], pred_train_2))\n",
        "print(\"group2 : val SMAPE : %.4f\" %smape(total_split_dic[\"grouped_train2\"][3], pred_val_2))\n",
        "\n",
        "\n",
        "print(\"\\n--- RandomForestRegressor for group 3 & 4---\")\n",
        "print(\"group3 : Train SMAPE : %.4f\" % smape(total_split_dic[\"grouped_train3\"][2], pred_train_3))\n",
        "print(\"group3 : val SMAPE : %.4f\" %smape(total_split_dic[\"grouped_train3\"][3], pred_val_3))\n",
        "print(\"group4 : Train SMAPE : %.4f\" % smape(total_split_dic[\"grouped_train4\"][2], pred_train_4))\n",
        "print(\"group4 : val SMAPE : %.4f\" %smape(total_split_dic[\"grouped_train4\"][3], pred_val_4))"
      ],
      "metadata": {
        "id": "H_7LLFFOPh94",
        "colab": {
          "base_uri": "https://localhost:8080/"
        },
        "outputId": "e56a7eaf-a244-4d5b-b371-7362ea46b61e"
      },
      "execution_count": 154,
      "outputs": [
        {
          "output_type": "stream",
          "name": "stdout",
          "text": [
            "--- LightGBM Regressor for group 1 & 2 ---\n",
            "group1 : Train SMAPE : 0.0538\n",
            "group1 : val SMAPE : 0.0553\n",
            "group2 : Train SMAPE : 0.0538\n",
            "group2 : val SMAPE : 0.0553\n",
            "\n",
            "--- RandomForestRegressor for group 3 & 4---\n",
            "group3 : Train SMAPE : 0.0103\n",
            "group3 : val SMAPE : 0.0268\n",
            "group4 : Train SMAPE : 0.0103\n",
            "group4 : val SMAPE : 0.0268\n"
          ]
        }
      ]
    },
    {
      "cell_type": "markdown",
      "source": [
        "### 6. Hyper Parameter Tuning\n",
        "- GridsearchCV : 주어진 하이퍼파라미터 조합을 모두 테스트하는 방법"
      ],
      "metadata": {
        "id": "H0pwLy58SZ7Q"
      }
    },
    {
      "cell_type": "code",
      "source": [
        "from sklearn.model_selection import GridSearchCV\n",
        "from sklearn.metrics import make_scorer\n",
        "\n",
        "\"\"\"\n",
        "파라미터 설명 공식 다큐먼츠\n",
        "https://lightgbm.readthedocs.io/en/latest/Parameters-Tuning.html\n",
        "\"\"\"\n",
        "\n",
        "\"\"\" \n",
        "LGBMRegressor() 파라미터 종류들\n",
        "num_leaves: int = 31, max_depth: int = -1, learning_rate: float = 0.1, n_estimators: int = 100, \n",
        "subsample_for_bin: int = 200000, objective: Any | None = None, class_weight: Any | None = None, \n",
        "min_split_gain: float = 0, min_child_weight: float = 0.001, min_child_samples: int = 20, subsample: float = 1, \n",
        "subsample_freq: int = 0, colsample_bytree: float = 1, reg_alpha: float = 0, reg_lambda: float = 0, random_state: Any | None = None, \n",
        "n_jobs: int = -1, silent: bool = True, importance_type: str = 'split', **kwargs: Any) -> None\n",
        "\"\"\"\n",
        "\n",
        "\"\"\"\n",
        "max_depth: int = -1\n",
        "num_leaves: int = 31\n",
        "learning_rate: float = 0.1\n",
        "n_estimators: int = 100\n",
        "min_child_samples: int = 20\n",
        "\"\"\"\n",
        "\n",
        "param_grid = {\n",
        "    \"max_depth\" : [7,8],\n",
        "    \"num_leaves\" : [160, 150],\n",
        "    \"learning_rate\" : [0.2, 0.4],\n",
        "    \"min_data_in_leaf\" : [100, 200],\n",
        "    \"random_state\" : [42]\n",
        "} # 2x2x2x2x1 = 16가지 하이퍼파라미터 조합을 테스트한다. \n",
        "\n",
        "smape_func = make_scorer(smape)\n",
        "gcv = GridSearchCV(LGBMRegressor(), param_grid, scoring = smape_func, verbose = 1)\n",
        "gcv.fit(X_train, y_train)"
      ],
      "metadata": {
        "id": "YLblsX2zUwL4",
        "colab": {
          "base_uri": "https://localhost:8080/"
        },
        "outputId": "c8f322f3-10d9-47a1-99aa-3aeca835508f"
      },
      "execution_count": 155,
      "outputs": [
        {
          "output_type": "stream",
          "name": "stdout",
          "text": [
            "Fitting 5 folds for each of 16 candidates, totalling 80 fits\n"
          ]
        },
        {
          "output_type": "execute_result",
          "data": {
            "text/plain": [
              "GridSearchCV(estimator=LGBMRegressor(),\n",
              "             param_grid={'learning_rate': [0.2, 0.4], 'max_depth': [7, 8],\n",
              "                         'min_data_in_leaf': [100, 200],\n",
              "                         'num_leaves': [160, 150], 'random_state': [42]},\n",
              "             scoring=make_scorer(smape), verbose=1)"
            ]
          },
          "metadata": {},
          "execution_count": 155
        }
      ]
    },
    {
      "cell_type": "code",
      "source": [
        "best_model = gcv.best_estimator_\n",
        "best_model\n",
        "\n",
        "\"\"\"\n",
        "LGBMRegressor(learning_rate=0.4, max_depth=8, min_data_in_leaf=100,\n",
        "              num_leaves=160, random_state=42)\n",
        "\"\"\""
      ],
      "metadata": {
        "id": "0xDbNykUVYoX",
        "colab": {
          "base_uri": "https://localhost:8080/",
          "height": 35
        },
        "outputId": "ff4fea1b-1c20-45f8-e163-581967274207"
      },
      "execution_count": 156,
      "outputs": [
        {
          "output_type": "execute_result",
          "data": {
            "text/plain": [
              "'\\nLGBMRegressor(learning_rate=0.4, max_depth=8, min_data_in_leaf=100,\\n              num_leaves=160, random_state=42)\\n'"
            ],
            "application/vnd.google.colaboratory.intrinsic+json": {
              "type": "string"
            }
          },
          "metadata": {},
          "execution_count": 156
        }
      ]
    },
    {
      "cell_type": "code",
      "source": [
        "pred_train_5 = best_model.predict(total_split_dic[\"grouped_train1\"][0])\n",
        "pred_val_5 = best_model.predict(total_split_dic[\"grouped_train1\"][1])\n",
        "pred_train_6 = best_model.predict(total_split_dic[\"grouped_train2\"][0])\n",
        "pred_val_6 = best_model.predict(total_split_dic[\"grouped_train2\"][1])\n",
        "\n",
        "print(\"--- LightGBM Regressor for group 1 & 2 ---\")\n",
        "print(\"--- After Hyper Parameter Tuning ---\")\n",
        "print(\"group1 : Train SMAPE : %.4f\" % smape(total_split_dic[\"grouped_train1\"][2], pred_train_5))\n",
        "print(\"group1 : val SMAPE : %.4f\" %smape(total_split_dic[\"grouped_train1\"][3], pred_val_5))\n",
        "print(\"group2 : Train SMAPE : %.4f\" % smape(total_split_dic[\"grouped_train2\"][2], pred_train_6))\n",
        "print(\"group2 : val SMAPE : %.4f\" %smape(total_split_dic[\"grouped_train2\"][3], pred_val_6))"
      ],
      "metadata": {
        "id": "hmPrPpCDgG5j",
        "colab": {
          "base_uri": "https://localhost:8080/"
        },
        "outputId": "9e473520-9f24-4924-f671-3377f3d594c0"
      },
      "execution_count": 158,
      "outputs": [
        {
          "output_type": "stream",
          "name": "stdout",
          "text": [
            "--- LightGBM Regressor for group 1 & 2 ---\n",
            "--- After Hyper Parameter Tuning ---\n",
            "group1 : Train SMAPE : 0.0445\n",
            "group1 : val SMAPE : 0.0463\n",
            "group2 : Train SMAPE : 0.0445\n",
            "group2 : val SMAPE : 0.0463\n"
          ]
        }
      ]
    },
    {
      "cell_type": "markdown",
      "source": [
        "### 7. Prediction & Submission\n"
      ],
      "metadata": {
        "id": "MZufJrwCgQo5"
      }
    },
    {
      "cell_type": "code",
      "source": [
        "## To-do : test 데이터를 train 데이터와 같은 전처리를 적용해서 best_model로 예측한 값을 result라는 변수에 저장해주세요.\n",
        "test['dow'] = test.date_time.dt.dayofweek\n",
        "test['hour'] = test.date_time.dt.hour\n",
        "X_test = test.drop(columns = \"date_time\")\n",
        "result = best_model.predict(X_test)\n",
        "result"
      ],
      "metadata": {
        "id": "c5UQTsXRiHNz",
        "colab": {
          "base_uri": "https://localhost:8080/"
        },
        "outputId": "35ddd22f-e100-4adc-fdd5-937db99801b8"
      },
      "execution_count": 162,
      "outputs": [
        {
          "output_type": "execute_result",
          "data": {
            "text/plain": [
              "array([ 905.93306827,  823.98204261,  875.48365987, ..., 1178.82662539,\n",
              "       1135.8514964 , 1001.68153964])"
            ]
          },
          "metadata": {},
          "execution_count": 162
        }
      ]
    },
    {
      "cell_type": "code",
      "source": [
        "submission = pd.read_csv(base_path + \"sample_submission.csv\")\n",
        "submission[\"answer\"] = result\n",
        "submission.to_csv(\"sample_submission.csv\", index = False)"
      ],
      "metadata": {
        "id": "SUUwPYLJjEsZ"
      },
      "execution_count": 163,
      "outputs": []
    }
  ]
}